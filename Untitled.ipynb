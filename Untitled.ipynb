{
 "cells": [
  {
   "cell_type": "code",
   "execution_count": 528,
   "metadata": {},
   "outputs": [],
   "source": [
    "import pandas as pd\n",
    "from pandas.api.types import is_list_like\n",
    "import pandas_datareader as pdr\n",
    "import numpy as np"
   ]
  },
  {
   "cell_type": "code",
   "execution_count": 529,
   "metadata": {},
   "outputs": [],
   "source": [
    "import plotly.plotly as py\n",
    "import plotly.graph_objs as go\n",
    "import plotly\n",
    "from plotly.plotly import plot_mpl\n",
    "plotly.tools.set_credentials_file(username='rkawall', api_key='lE6jNupk5R5RQQuDEUet')\n",
    "from datetime import datetime\n",
    "import requests\n",
    "import matplotlib\n",
    "from matplotlib import pyplot\n",
    "from pandas.plotting import autocorrelation_plot\n",
    "from statsmodels.tsa.arima_model import ARIMA\n",
    "from pyramid.arima import auto_arima\n",
    "from sklearn.metrics import mean_squared_error"
   ]
  },
  {
   "cell_type": "code",
   "execution_count": 307,
   "metadata": {},
   "outputs": [],
   "source": [
    "r = requests.get('https://www.alphavantage.co/query?function=TIME_SERIES_MONTHLY&symbol=MSFT&apikey=K87BB8H31SVY3OBA')"
   ]
  },
  {
   "cell_type": "code",
   "execution_count": 308,
   "metadata": {},
   "outputs": [],
   "source": [
    "data = r.json()"
   ]
  },
  {
   "cell_type": "code",
   "execution_count": 309,
   "metadata": {},
   "outputs": [
    {
     "name": "stdout",
     "output_type": "stream",
     "text": [
      "dict_keys(['Meta Data', 'Monthly Time Series'])\n"
     ]
    }
   ],
   "source": [
    "print(data.keys())"
   ]
  },
  {
   "cell_type": "code",
   "execution_count": 310,
   "metadata": {},
   "outputs": [],
   "source": [
    "#print(data['Time Series (5min)'])"
   ]
  },
  {
   "cell_type": "code",
   "execution_count": 311,
   "metadata": {},
   "outputs": [],
   "source": [
    "df = pd.DataFrame.from_dict(data['Monthly Time Series'])"
   ]
  },
  {
   "cell_type": "code",
   "execution_count": 394,
   "metadata": {},
   "outputs": [
    {
     "data": {
      "text/html": [
       "<div>\n",
       "<style scoped>\n",
       "    .dataframe tbody tr th:only-of-type {\n",
       "        vertical-align: middle;\n",
       "    }\n",
       "\n",
       "    .dataframe tbody tr th {\n",
       "        vertical-align: top;\n",
       "    }\n",
       "\n",
       "    .dataframe thead th {\n",
       "        text-align: right;\n",
       "    }\n",
       "</style>\n",
       "<table border=\"1\" class=\"dataframe\">\n",
       "  <thead>\n",
       "    <tr style=\"text-align: right;\">\n",
       "      <th></th>\n",
       "      <th>2019-02-06</th>\n",
       "      <th>2019-01-31</th>\n",
       "      <th>2018-12-31</th>\n",
       "      <th>2018-11-30</th>\n",
       "      <th>2018-10-31</th>\n",
       "      <th>2018-09-28</th>\n",
       "      <th>2018-08-31</th>\n",
       "      <th>2018-07-31</th>\n",
       "      <th>2018-06-29</th>\n",
       "      <th>2018-05-31</th>\n",
       "      <th>...</th>\n",
       "      <th>1998-11-30</th>\n",
       "      <th>1998-10-30</th>\n",
       "      <th>1998-09-30</th>\n",
       "      <th>1998-08-31</th>\n",
       "      <th>1998-07-31</th>\n",
       "      <th>1998-06-30</th>\n",
       "      <th>1998-05-29</th>\n",
       "      <th>1998-04-30</th>\n",
       "      <th>1998-03-31</th>\n",
       "      <th>1998-02-27</th>\n",
       "    </tr>\n",
       "  </thead>\n",
       "  <tbody>\n",
       "    <tr>\n",
       "      <th>1. open</th>\n",
       "      <td>103.7750</td>\n",
       "      <td>99.5500</td>\n",
       "      <td>113.0000</td>\n",
       "      <td>107.0500</td>\n",
       "      <td>114.7500</td>\n",
       "      <td>110.8500</td>\n",
       "      <td>106.0300</td>\n",
       "      <td>98.1000</td>\n",
       "      <td>99.2798</td>\n",
       "      <td>93.2100</td>\n",
       "      <td>...</td>\n",
       "      <td>106.3700</td>\n",
       "      <td>108.0600</td>\n",
       "      <td>95.2500</td>\n",
       "      <td>109.1200</td>\n",
       "      <td>109.1200</td>\n",
       "      <td>83.8700</td>\n",
       "      <td>90.1900</td>\n",
       "      <td>89.8100</td>\n",
       "      <td>85.8700</td>\n",
       "      <td>151.7500</td>\n",
       "    </tr>\n",
       "    <tr>\n",
       "      <th>2. high</th>\n",
       "      <td>107.2700</td>\n",
       "      <td>107.9000</td>\n",
       "      <td>113.4200</td>\n",
       "      <td>112.2400</td>\n",
       "      <td>116.1800</td>\n",
       "      <td>115.2900</td>\n",
       "      <td>112.7770</td>\n",
       "      <td>111.1500</td>\n",
       "      <td>102.6900</td>\n",
       "      <td>99.9900</td>\n",
       "      <td>...</td>\n",
       "      <td>130.2700</td>\n",
       "      <td>110.1200</td>\n",
       "      <td>114.6200</td>\n",
       "      <td>113.7500</td>\n",
       "      <td>119.6200</td>\n",
       "      <td>108.5600</td>\n",
       "      <td>91.0000</td>\n",
       "      <td>99.1200</td>\n",
       "      <td>90.9400</td>\n",
       "      <td>160.0600</td>\n",
       "    </tr>\n",
       "    <tr>\n",
       "      <th>3. low</th>\n",
       "      <td>102.3500</td>\n",
       "      <td>97.2000</td>\n",
       "      <td>93.9600</td>\n",
       "      <td>99.3528</td>\n",
       "      <td>100.1100</td>\n",
       "      <td>107.2300</td>\n",
       "      <td>104.8400</td>\n",
       "      <td>98.0000</td>\n",
       "      <td>97.2600</td>\n",
       "      <td>92.4500</td>\n",
       "      <td>...</td>\n",
       "      <td>104.7500</td>\n",
       "      <td>87.7500</td>\n",
       "      <td>94.5000</td>\n",
       "      <td>95.7500</td>\n",
       "      <td>105.3700</td>\n",
       "      <td>83.1200</td>\n",
       "      <td>81.8700</td>\n",
       "      <td>86.6200</td>\n",
       "      <td>79.2500</td>\n",
       "      <td>79.3700</td>\n",
       "    </tr>\n",
       "    <tr>\n",
       "      <th>4. close</th>\n",
       "      <td>106.0300</td>\n",
       "      <td>104.4300</td>\n",
       "      <td>101.5700</td>\n",
       "      <td>110.8900</td>\n",
       "      <td>106.8100</td>\n",
       "      <td>114.3700</td>\n",
       "      <td>112.3300</td>\n",
       "      <td>106.0800</td>\n",
       "      <td>98.6100</td>\n",
       "      <td>98.8400</td>\n",
       "      <td>...</td>\n",
       "      <td>122.0000</td>\n",
       "      <td>105.8700</td>\n",
       "      <td>110.0600</td>\n",
       "      <td>95.9400</td>\n",
       "      <td>109.9400</td>\n",
       "      <td>108.3700</td>\n",
       "      <td>84.8100</td>\n",
       "      <td>90.1200</td>\n",
       "      <td>89.5000</td>\n",
       "      <td>84.7500</td>\n",
       "    </tr>\n",
       "    <tr>\n",
       "      <th>5. volume</th>\n",
       "      <td>114720446</td>\n",
       "      <td>714204787</td>\n",
       "      <td>944287635</td>\n",
       "      <td>720228643</td>\n",
       "      <td>927547942</td>\n",
       "      <td>480255674</td>\n",
       "      <td>456630721</td>\n",
       "      <td>569501573</td>\n",
       "      <td>602585341</td>\n",
       "      <td>509418119</td>\n",
       "      <td>...</td>\n",
       "      <td>290676700</td>\n",
       "      <td>410762300</td>\n",
       "      <td>298081100</td>\n",
       "      <td>337509900</td>\n",
       "      <td>307324500</td>\n",
       "      <td>308288100</td>\n",
       "      <td>273845600</td>\n",
       "      <td>254744300</td>\n",
       "      <td>274981900</td>\n",
       "      <td>215523150</td>\n",
       "    </tr>\n",
       "  </tbody>\n",
       "</table>\n",
       "<p>5 rows × 253 columns</p>\n",
       "</div>"
      ],
      "text/plain": [
       "          2019-02-06 2019-01-31 2018-12-31 2018-11-30 2018-10-31 2018-09-28  \\\n",
       "1. open     103.7750    99.5500   113.0000   107.0500   114.7500   110.8500   \n",
       "2. high     107.2700   107.9000   113.4200   112.2400   116.1800   115.2900   \n",
       "3. low      102.3500    97.2000    93.9600    99.3528   100.1100   107.2300   \n",
       "4. close    106.0300   104.4300   101.5700   110.8900   106.8100   114.3700   \n",
       "5. volume  114720446  714204787  944287635  720228643  927547942  480255674   \n",
       "\n",
       "          2018-08-31 2018-07-31 2018-06-29 2018-05-31  ... 1998-11-30  \\\n",
       "1. open     106.0300    98.1000    99.2798    93.2100  ...   106.3700   \n",
       "2. high     112.7770   111.1500   102.6900    99.9900  ...   130.2700   \n",
       "3. low      104.8400    98.0000    97.2600    92.4500  ...   104.7500   \n",
       "4. close    112.3300   106.0800    98.6100    98.8400  ...   122.0000   \n",
       "5. volume  456630721  569501573  602585341  509418119  ...  290676700   \n",
       "\n",
       "          1998-10-30 1998-09-30 1998-08-31 1998-07-31 1998-06-30 1998-05-29  \\\n",
       "1. open     108.0600    95.2500   109.1200   109.1200    83.8700    90.1900   \n",
       "2. high     110.1200   114.6200   113.7500   119.6200   108.5600    91.0000   \n",
       "3. low       87.7500    94.5000    95.7500   105.3700    83.1200    81.8700   \n",
       "4. close    105.8700   110.0600    95.9400   109.9400   108.3700    84.8100   \n",
       "5. volume  410762300  298081100  337509900  307324500  308288100  273845600   \n",
       "\n",
       "          1998-04-30 1998-03-31 1998-02-27  \n",
       "1. open      89.8100    85.8700   151.7500  \n",
       "2. high      99.1200    90.9400   160.0600  \n",
       "3. low       86.6200    79.2500    79.3700  \n",
       "4. close     90.1200    89.5000    84.7500  \n",
       "5. volume  254744300  274981900  215523150  \n",
       "\n",
       "[5 rows x 253 columns]"
      ]
     },
     "execution_count": 394,
     "metadata": {},
     "output_type": "execute_result"
    }
   ],
   "source": [
    "df.head()"
   ]
  },
  {
   "cell_type": "code",
   "execution_count": 212,
   "metadata": {},
   "outputs": [],
   "source": [
    "time = df.iloc[1].index"
   ]
  },
  {
   "cell_type": "code",
   "execution_count": 213,
   "metadata": {},
   "outputs": [],
   "source": [
    "open_price = []\n",
    "for price in range(len(df.iloc[1])):\n",
    "    open_price.append(df.iloc[1][price])"
   ]
  },
  {
   "cell_type": "code",
   "execution_count": 222,
   "metadata": {},
   "outputs": [],
   "source": [
    "high_price = []\n",
    "for price in range(len(df.iloc[2])):\n",
    "    high_price.append(df.iloc[2][price])"
   ]
  },
  {
   "cell_type": "code",
   "execution_count": 223,
   "metadata": {},
   "outputs": [],
   "source": [
    "low_price = []\n",
    "for price in range(len(df.iloc[3])):\n",
    "    low_price.append(df.iloc[3][price])"
   ]
  },
  {
   "cell_type": "code",
   "execution_count": 224,
   "metadata": {},
   "outputs": [],
   "source": [
    "close_price = []\n",
    "for price in range(len(df.iloc[4])):\n",
    "    close_price.append(df.iloc[4][price])"
   ]
  },
  {
   "cell_type": "code",
   "execution_count": 225,
   "metadata": {},
   "outputs": [],
   "source": [
    "#trace_1 = go.Scatter(x=time, y=open_price)"
   ]
  },
  {
   "cell_type": "code",
   "execution_count": 226,
   "metadata": {},
   "outputs": [],
   "source": [
    "#trace_2 = go.Scatter(x=time, y=close_price)"
   ]
  },
  {
   "cell_type": "code",
   "execution_count": 227,
   "metadata": {},
   "outputs": [],
   "source": [
    "#graph_data = [trace_1, trace_2]"
   ]
  },
  {
   "cell_type": "code",
   "execution_count": 228,
   "metadata": {},
   "outputs": [],
   "source": [
    "#py.iplot(graph_data, filename='contour-scatter')"
   ]
  },
  {
   "cell_type": "code",
   "execution_count": 165,
   "metadata": {},
   "outputs": [],
   "source": [
    "# calculate change\n",
    "diff_in_price = float(close_price[-1]) - float(open_price[-1])"
   ]
  },
  {
   "cell_type": "code",
   "execution_count": 166,
   "metadata": {},
   "outputs": [
    {
     "data": {
      "text/plain": [
       "143838.4649"
      ]
     },
     "execution_count": 166,
     "metadata": {},
     "output_type": "execute_result"
    }
   ],
   "source": [
    "diff_in_price"
   ]
  },
  {
   "cell_type": "code",
   "execution_count": 331,
   "metadata": {},
   "outputs": [],
   "source": [
    "new_data = pd.DataFrame(index=range(0,len(df.iloc[1].index)),columns=['Time', 'Open', 'High', 'Low', 'Close'])"
   ]
  },
  {
   "cell_type": "code",
   "execution_count": 332,
   "metadata": {},
   "outputs": [],
   "source": [
    "for i in range(len(df.iloc[1].index)):\n",
    "    new_data['Time'] = time[i]\n",
    "    new_data['Open'] = open_price[i]\n",
    "    new_data['High'] = high_price[i]\n",
    "    new_data['Low'] = low_price[i]\n",
    "    new_data['Close'] = close_price[i]"
   ]
  },
  {
   "cell_type": "code",
   "execution_count": 333,
   "metadata": {},
   "outputs": [],
   "source": [
    "trace_0 = go.Scatter(x=time, y=open_price)"
   ]
  },
  {
   "cell_type": "code",
   "execution_count": 334,
   "metadata": {},
   "outputs": [],
   "source": [
    "graph_data = [trace_0]"
   ]
  },
  {
   "cell_type": "code",
   "execution_count": 335,
   "metadata": {},
   "outputs": [
    {
     "name": "stderr",
     "output_type": "stream",
     "text": [
      "/home/ryan/codebase/dash-demo/lib/python3.6/site-packages/IPython/core/display.py:689: UserWarning:\n",
      "\n",
      "Consider using IPython.display.IFrame instead\n",
      "\n"
     ]
    },
    {
     "data": {
      "text/html": [
       "<iframe id=\"igraph\" scrolling=\"no\" style=\"border:none;\" seamless=\"seamless\" src=\"https://plot.ly/~rkawall/4.embed\" height=\"525px\" width=\"100%\"></iframe>"
      ],
      "text/plain": [
       "<plotly.tools.PlotlyDisplay object>"
      ]
     },
     "execution_count": 335,
     "metadata": {},
     "output_type": "execute_result"
    }
   ],
   "source": [
    "py.iplot(graph_data, filename='Time-series-analysis')"
   ]
  },
  {
   "cell_type": "code",
   "execution_count": 372,
   "metadata": {},
   "outputs": [],
   "source": [
    "auto_df = pd.DataFrame(index=time, columns=['Open'])"
   ]
  },
  {
   "cell_type": "code",
   "execution_count": 373,
   "metadata": {},
   "outputs": [],
   "source": [
    "results = list(map(float, open_price))"
   ]
  },
  {
   "cell_type": "code",
   "execution_count": 374,
   "metadata": {},
   "outputs": [],
   "source": [
    "auto_df['Open'] = results"
   ]
  },
  {
   "cell_type": "code",
   "execution_count": 438,
   "metadata": {},
   "outputs": [
    {
     "data": {
      "image/png": "[encoded data removed]",
      "text/plain": [
       "<Figure size 432x288 with 1 Axes>"
      ]
     },
     "metadata": {
      "needs_background": "light"
     },
     "output_type": "display_data"
    }
   ],
   "source": [
    "autocorrelation_plot(auto_df)\n",
    "pyplot.show()"
   ]
  },
  {
   "cell_type": "code",
   "execution_count": 395,
   "metadata": {},
   "outputs": [],
   "source": [
    "auto_df.index = pd.to_datetime(auto_df.index)"
   ]
  },
  {
   "cell_type": "code",
   "execution_count": 403,
   "metadata": {},
   "outputs": [
    {
     "name": "stderr",
     "output_type": "stream",
     "text": [
      "/home/ryan/codebase/dash-demo/lib/python3.6/site-packages/statsmodels/tsa/base/tsa_model.py:225: ValueWarning:\n",
      "\n",
      "A date index has been provided, but it has no associated frequency information and so will be ignored when e.g. forecasting.\n",
      "\n",
      "/home/ryan/codebase/dash-demo/lib/python3.6/site-packages/statsmodels/tsa/base/tsa_model.py:225: ValueWarning:\n",
      "\n",
      "A date index has been provided, but it has no associated frequency information and so will be ignored when e.g. forecasting.\n",
      "\n"
     ]
    }
   ],
   "source": [
    "model = ARIMA(auto_df, order=(5,1,0))"
   ]
  },
  {
   "cell_type": "code",
   "execution_count": 404,
   "metadata": {},
   "outputs": [],
   "source": [
    "model_fit = model.fit(disp=0)"
   ]
  },
  {
   "cell_type": "code",
   "execution_count": 405,
   "metadata": {},
   "outputs": [
    {
     "name": "stdout",
     "output_type": "stream",
     "text": [
      "                             ARIMA Model Results                              \n",
      "==============================================================================\n",
      "Dep. Variable:                 D.Open   No. Observations:                  252\n",
      "Model:                 ARIMA(5, 1, 0)   Log Likelihood                -886.099\n",
      "Method:                       css-mle   S.D. of innovations              8.138\n",
      "Date:                Wed, 06 Feb 2019   AIC                           1786.198\n",
      "Time:                        21:35:53   BIC                           1810.904\n",
      "Sample:                             1   HQIC                          1796.139\n",
      "                                                                              \n",
      "================================================================================\n",
      "                   coef    std err          z      P>|z|      [0.025      0.975]\n",
      "--------------------------------------------------------------------------------\n",
      "const            0.1249      0.346      0.361      0.719      -0.554       0.804\n",
      "ar.L1.D.Open     0.0219      0.072      0.304      0.762      -0.119       0.163\n",
      "ar.L2.D.Open    -0.0020      0.072     -0.028      0.978      -0.144       0.140\n",
      "ar.L3.D.Open    -0.2861      0.071     -4.034      0.000      -0.425      -0.147\n",
      "ar.L4.D.Open    -0.1313      0.073     -1.798      0.073      -0.274       0.012\n",
      "ar.L5.D.Open    -0.0926      0.073     -1.267      0.206      -0.236       0.051\n",
      "                                    Roots                                    \n",
      "=============================================================================\n",
      "                  Real          Imaginary           Modulus         Frequency\n",
      "-----------------------------------------------------------------------------\n",
      "AR.1            0.8572           -0.9458j            1.2764           -0.1328\n",
      "AR.2            0.8572           +0.9458j            1.2764            0.1328\n",
      "AR.3           -1.5133           -0.0000j            1.5133           -0.5000\n",
      "AR.4           -0.8094           -1.9301j            2.0929           -0.3132\n",
      "AR.5           -0.8094           +1.9301j            2.0929            0.3132\n",
      "-----------------------------------------------------------------------------\n"
     ]
    }
   ],
   "source": [
    "print(model_fit.summary())"
   ]
  },
  {
   "cell_type": "code",
   "execution_count": 424,
   "metadata": {},
   "outputs": [],
   "source": [
    "residuals = pd.DataFrame(model_fit.resid)"
   ]
  },
  {
   "cell_type": "code",
   "execution_count": 444,
   "metadata": {},
   "outputs": [
    {
     "data": {
      "image/png": "[encoded data removed]",
      "text/plain": [
       "<Figure size 432x288 with 1 Axes>"
      ]
     },
     "metadata": {
      "needs_background": "light"
     },
     "output_type": "display_data"
    }
   ],
   "source": [
    "pyplot.plot(residuals);"
   ]
  },
  {
   "cell_type": "code",
   "execution_count": 586,
   "metadata": {},
   "outputs": [],
   "source": [
    "train = auto_df[:\"2010-12-31\"]\n",
    "test = auto_df[\"2011-01-31\":]"
   ]
  },
  {
   "cell_type": "code",
   "execution_count": 587,
   "metadata": {},
   "outputs": [
    {
     "data": {
      "text/plain": [
       "99"
      ]
     },
     "execution_count": 587,
     "metadata": {},
     "output_type": "execute_result"
    }
   ],
   "source": [
    "len(train['Open'])"
   ]
  },
  {
   "cell_type": "code",
   "execution_count": 588,
   "metadata": {},
   "outputs": [
    {
     "data": {
      "text/plain": [
       "156"
      ]
     },
     "execution_count": 588,
     "metadata": {},
     "output_type": "execute_result"
    }
   ],
   "source": [
    "len(test)"
   ]
  },
  {
   "cell_type": "code",
   "execution_count": 589,
   "metadata": {},
   "outputs": [],
   "source": [
    "history = [train['Open'].iloc[x] for x in range(len(train['Open']))]"
   ]
  },
  {
   "cell_type": "code",
   "execution_count": 590,
   "metadata": {},
   "outputs": [],
   "source": [
    "predictions = []"
   ]
  },
  {
   "cell_type": "code",
   "execution_count": 591,
   "metadata": {},
   "outputs": [
    {
     "name": "stdout",
     "output_type": "stream",
     "text": [
      "Predicted=[27.84549784] Expected=29.46\n",
      "Predicted=[28.78578268] Expected=28.4\n",
      "Predicted=[27.56807909] Expected=27.49\n",
      "Predicted=[26.80356411] Expected=27.2\n",
      "Predicted=[26.35387897] Expected=25.53\n",
      "Predicted=[24.69612607] Expected=26.38\n",
      "Predicted=[25.61506989] Expected=26.41\n",
      "Predicted=[25.64566151] Expected=26.93\n",
      "Predicted=[26.40104013] Expected=31.0606\n",
      "Predicted=[30.57077468] Expected=31.58\n",
      "Predicted=[31.33808069] Expected=30.57\n",
      "Predicted=[30.42478379] Expected=29.03\n",
      "Predicted=[28.20210745] Expected=31.24\n",
      "Predicted=[30.39314147] Expected=31.5\n",
      "Predicted=[30.91812574] Expected=30.14\n",
      "Predicted=[29.82432614] Expected=29.35\n",
      "Predicted=[28.7302086] Expected=26.25\n",
      "Predicted=[25.37263519] Expected=25.49\n",
      "Predicted=[24.64340886] Expected=25.72\n",
      "Predicted=[24.81420907] Expected=24.34\n",
      "Predicted=[23.72023563] Expected=20.94\n",
      "Predicted=[20.24910776] Expected=21.2\n",
      "Predicted=[20.30274228] Expected=18.88\n",
      "Predicted=[17.89678373] Expected=19.93\n",
      "Predicted=[19.28458092] Expected=21.0\n",
      "Predicted=[20.28178968] Expected=21.25\n",
      "Predicted=[20.86396912] Expected=23.66\n",
      "Predicted=[23.28949527] Expected=27.47\n",
      "Predicted=[27.28257095] Expected=27.76\n",
      "Predicted=[27.80901314] Expected=28.5\n",
      "Predicted=[28.4920946] Expected=27.91\n",
      "Predicted=[27.38076913] Expected=29.57\n",
      "Predicted=[29.1860319] Expected=30.53\n",
      "Predicted=[30.20145473] Expected=32.1\n",
      "Predicted=[32.04275012] Expected=29.59\n",
      "Predicted=[29.28776986] Expected=33.25\n",
      "Predicted=[32.92633344] Expected=35.96\n",
      "Predicted=[35.73998658] Expected=36.72\n",
      "Predicted=[37.04131382] Expected=37.5\n",
      "Predicted=[37.68088469] Expected=37.0\n",
      "Predicted=[36.87995093] Expected=29.85\n",
      "Predicted=[28.97581839] Expected=30.1\n",
      "Predicted=[29.01768949] Expected=31.84\n",
      "Predicted=[30.66346714] Expected=30.9\n",
      "Predicted=[30.57585621] Expected=31.16\n",
      "Predicted=[31.02358889] Expected=30.74\n",
      "Predicted=[30.19350132] Expected=28.55\n",
      "Predicted=[27.99982835] Expected=30.94\n",
      "Predicted=[30.46569917] Expected=31.48\n",
      "Predicted=[30.9708829] Expected=30.26\n",
      "Predicted=[30.14402871] Expected=30.0001\n",
      "Predicted=[29.57157244] Expected=28.8501\n",
      "Predicted=[28.20037534] Expected=27.52\n",
      "Predicted=[26.96165251] Expected=26.2501\n",
      "Predicted=[25.57297192] Expected=24.6\n",
      "Predicted=[23.88257239] Expected=23.65\n",
      "Predicted=[22.96261145] Expected=25.0\n",
      "Predicted=[24.43224441] Expected=27.941\n",
      "Predicted=[27.71248615] Expected=28.22\n",
      "Predicted=[28.1822291] Expected=28.07\n",
      "Predicted=[27.99632578] Expected=28.38\n",
      "Predicted=[27.94921276] Expected=28.101\n",
      "Predicted=[27.64498175] Expected=28.25\n",
      "Predicted=[27.89287089] Expected=25.8\n",
      "Predicted=[25.22525109] Expected=27.39\n",
      "Predicted=[26.9739744] Expected=27.94\n",
      "Predicted=[27.38047724] Expected=26.48\n",
      "Predicted=[26.26833896] Expected=26.0\n",
      "Predicted=[25.57748069] Expected=26.09\n",
      "Predicted=[25.48328728] Expected=25.45\n",
      "Predicted=[24.99070028] Expected=25.79\n",
      "Predicted=[25.42943193] Expected=26.5\n",
      "Predicted=[26.10511309] Expected=27.1\n",
      "Predicted=[26.84669485] Expected=27.44\n",
      "Predicted=[27.20903578] Expected=30.2\n",
      "Predicted=[30.09666045] Expected=28.89\n",
      "Predicted=[28.62814644] Expected=27.79\n",
      "Predicted=[27.62595533] Expected=28.55\n",
      "Predicted=[27.97492038] Expected=29.89\n",
      "Predicted=[29.50343975] Expected=28.8\n",
      "Predicted=[28.57443069] Expected=26.6\n",
      "Predicted=[26.24464199] Expected=27.72\n",
      "Predicted=[27.19678626] Expected=26.72\n",
      "Predicted=[26.07222738] Expected=27.8\n",
      "Predicted=[27.62935136] Expected=28.83\n",
      "Predicted=[28.48848879] Expected=27.55\n",
      "Predicted=[27.31608464] Expected=26.75\n",
      "Predicted=[26.43768271] Expected=29.46\n",
      "Predicted=[29.06325504] Expected=30.0\n",
      "Predicted=[29.69766817] Expected=26.95\n",
      "Predicted=[26.83149211] Expected=27.81\n",
      "Predicted=[27.51936154] Expected=26.51\n",
      "Predicted=[25.69192644] Expected=26.5\n",
      "Predicted=[26.23312272] Expected=26.43\n",
      "Predicted=[25.95710694] Expected=26.8\n",
      "Predicted=[26.47228828] Expected=49.1\n",
      "Predicted=[50.42500144] Expected=57.32\n",
      "Predicted=[59.48537369] Expected=58.96\n",
      "Predicted=[62.35696523] Expected=58.64\n",
      "Predicted=[58.22104012] Expected=54.07\n",
      "Predicted=[52.70541415] Expected=51.1\n",
      "Predicted=[49.99127024] Expected=53.45\n",
      "Predicted=[53.40638983] Expected=54.93\n",
      "Predicted=[55.30049116] Expected=56.44\n",
      "Predicted=[56.90900641] Expected=56.44\n",
      "Predicted=[56.00114846] Expected=60.4\n",
      "Predicted=[60.92838678] Expected=65.0\n",
      "Predicted=[65.66093074] Expected=64.5\n",
      "Predicted=[64.5390612] Expected=70.62\n",
      "Predicted=[71.62238441] Expected=69.89\n",
      "Predicted=[69.3098948] Expected=68.34\n",
      "Predicted=[68.51418619] Expected=63.63\n",
      "Predicted=[61.84976027] Expected=59.08\n",
      "Predicted=[57.90996697] Expected=67.54\n",
      "Predicted=[68.81489617] Expected=73.15\n",
      "Predicted=[74.36607227] Expected=76.15\n",
      "Predicted=[77.34066586] Expected=72.15\n",
      "Predicted=[69.97663827] Expected=71.1\n",
      "Predicted=[70.73773328] Expected=61.13\n",
      "Predicted=[58.62963065] Expected=65.06\n",
      "Predicted=[65.92369937] Expected=64.75\n",
      "Predicted=[64.80864138] Expected=60.63\n",
      "Predicted=[60.91005322] Expected=72.37\n",
      "Predicted=[72.70120465] Expected=70.12\n",
      "Predicted=[69.96623707] Expected=72.06\n",
      "Predicted=[73.30603786] Expected=74.87\n",
      "Predicted=[72.48529648] Expected=82.87\n",
      "Predicted=[84.62231956] Expected=82.19\n",
      "Predicted=[82.11169895] Expected=74.0\n",
      "Predicted=[72.60822735] Expected=96.5\n",
      "Predicted=[96.58451464] Expected=115.0\n",
      "Predicted=[116.69177767] Expected=110.0\n",
      "Predicted=[110.21589654] Expected=118.62\n",
      "Predicted=[121.7726941] Expected=119.94\n",
      "Predicted=[117.84538567] Expected=94.5\n",
      "Predicted=[91.18961346] Expected=95.25\n",
      "Predicted=[97.49723854] Expected=97.87\n",
      "Predicted=[90.9041405] Expected=96.37\n",
      "Predicted=[101.41560683] Expected=100.75\n",
      "Predicted=[103.91219332] Expected=90.25\n",
      "Predicted=[87.12077491] Expected=81.81\n",
      "Predicted=[83.30237623] Expected=95.62\n",
      "Predicted=[95.6246512] Expected=180.38\n",
      "Predicted=[211.71741614] Expected=175.94\n",
      "Predicted=[146.37324133] Expected=175.13\n",
      "Predicted=[178.23142985] Expected=144.0\n",
      "Predicted=[132.72196806] Expected=130.27\n",
      "Predicted=[125.99895935] Expected=110.12\n",
      "Predicted=[118.4323729] Expected=114.62\n",
      "Predicted=[123.45383795] Expected=113.75\n",
      "Predicted=[125.14395733] Expected=119.62\n",
      "Predicted=[123.35045215] Expected=108.56\n",
      "Predicted=[110.60085926] Expected=91.0\n",
      "Predicted=[88.07751982] Expected=99.12\n",
      "Predicted=[103.30216488] Expected=90.94\n",
      "Predicted=[93.26822473] Expected=160.06\n",
      "Test MSE: 127.05197824495306\n"
     ]
    }
   ],
   "source": [
    "for t in test.index:\n",
    "    my_model = ARIMA(history, order=(5,1,0))\n",
    "    my_model_fit = my_model.fit(disp=0)\n",
    "    output = my_model_fit.forecast()\n",
    "    yhat = output[0]\n",
    "    predictions.append(yhat)\n",
    "    obs = test['Open'][t]\n",
    "    history.append(obs)\n",
    "    print(\"Predicted={} Expected={}\".format(yhat, obs))\n",
    "try:\n",
    "    error = mean_squared_error(test, predictions)\n",
    "except ValueError:\n",
    "    print(\"error\")\n",
    "print(\"Test MSE: {}\".format(error))"
   ]
  },
  {
   "cell_type": "code",
   "execution_count": 592,
   "metadata": {},
   "outputs": [],
   "source": [
    "# show predicted vs expected on graph"
   ]
  },
  {
   "cell_type": "code",
   "execution_count": 630,
   "metadata": {},
   "outputs": [],
   "source": [
    "y_axis = np.arange(10, 180)"
   ]
  },
  {
   "cell_type": "code",
   "execution_count": 601,
   "metadata": {},
   "outputs": [],
   "source": [
    "my_predictions = []"
   ]
  },
  {
   "cell_type": "code",
   "execution_count": 603,
   "metadata": {},
   "outputs": [],
   "source": [
    "for i in predictions:\n",
    "    count = 0\n",
    "    my_predictions.append(i[count])\n",
    "    count += 1"
   ]
  },
  {
   "cell_type": "code",
   "execution_count": 634,
   "metadata": {},
   "outputs": [],
   "source": [
    "trace_predict = go.Scatter(x=predictions, y=y_axis, mode = 'lines+markers', name = 'Predictions')\n",
    "trace_actual = go.Scatter(x=test['Open'], y=y_axis, mode = 'lines+markers', name = 'Actual')"
   ]
  },
  {
   "cell_type": "code",
   "execution_count": 635,
   "metadata": {},
   "outputs": [],
   "source": [
    "predict_graph_data = [trace_predict, trace_actual]"
   ]
  },
  {
   "cell_type": "code",
   "execution_count": 636,
   "metadata": {},
   "outputs": [
    {
     "name": "stderr",
     "output_type": "stream",
     "text": [
      "/home/ryan/codebase/dash-demo/lib/python3.6/site-packages/IPython/core/display.py:689: UserWarning:\n",
      "\n",
      "Consider using IPython.display.IFrame instead\n",
      "\n"
     ]
    },
    {
     "data": {
      "text/html": [
       "<iframe id=\"igraph\" scrolling=\"no\" style=\"border:none;\" seamless=\"seamless\" src=\"https://plot.ly/~rkawall/6.embed\" height=\"525px\" width=\"100%\"></iframe>"
      ],
      "text/plain": [
       "<plotly.tools.PlotlyDisplay object>"
      ]
     },
     "execution_count": 636,
     "metadata": {},
     "output_type": "execute_result"
    }
   ],
   "source": [
    "py.iplot(predict_graph_data, filename='Prediction')"
   ]
  },
  {
   "cell_type": "code",
   "execution_count": null,
   "metadata": {},
   "outputs": [],
   "source": []
  }
 ],
 "metadata": {
  "kernelspec": {
   "display_name": "Python 3",
   "language": "python",
   "name": "python3"
  },
  "language_info": {
   "codemirror_mode": {
    "name": "ipython",
    "version": 3
   },
   "file_extension": ".py",
   "mimetype": "text/x-python",
   "name": "python",
   "nbconvert_exporter": "python",
   "pygments_lexer": "ipython3",
   "version": "3.6.7"
  }
 },
 "nbformat": 4,
 "nbformat_minor": 2
}
